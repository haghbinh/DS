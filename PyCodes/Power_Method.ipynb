{
 "cells": [
  {
   "cell_type": "markdown",
   "id": "799e87b1",
   "metadata": {},
   "source": [
    "# Power Method"
   ]
  },
  {
   "cell_type": "markdown",
   "id": "3452fd38",
   "metadata": {},
   "source": [
    "#### By: Dr H.Haghbin"
   ]
  },
  {
   "cell_type": "code",
   "execution_count": 1,
   "id": "1ef10c78",
   "metadata": {},
   "outputs": [],
   "source": [
    "import numpy as np\n",
    "from numpy import linalg as LA"
   ]
  },
  {
   "cell_type": "code",
   "execution_count": 2,
   "id": "42c07bad",
   "metadata": {},
   "outputs": [],
   "source": [
    "A = np.array([[1,2],\n",
    "             [-1,2],\n",
    "             [1,-2],\n",
    "             [-1,-2]])\n",
    "x0 = np.array([1,1])"
   ]
  },
  {
   "cell_type": "code",
   "execution_count": 3,
   "id": "84a927c6",
   "metadata": {},
   "outputs": [],
   "source": [
    "n, d = A.shape\n",
    "delta = 0.01"
   ]
  },
  {
   "cell_type": "code",
   "execution_count": 23,
   "id": "a7a0eb76",
   "metadata": {},
   "outputs": [],
   "source": [
    "Ax = np.matmul(A,x0)\n",
    "Bx = np.matmul(A.transpose(),Ax)\n",
    "x1 = Bx / LA.norm(Bx)\n",
    "delta = LA.norm(x1 - x0)\n",
    "x0 = x1"
   ]
  },
  {
   "cell_type": "code",
   "execution_count": 24,
   "id": "331d57b7",
   "metadata": {},
   "outputs": [
    {
     "data": {
      "text/plain": [
       "array([9.76562034e-04, 9.99999523e-01])"
      ]
     },
     "execution_count": 24,
     "metadata": {},
     "output_type": "execute_result"
    }
   ],
   "source": [
    "x1"
   ]
  },
  {
   "cell_type": "code",
   "execution_count": 25,
   "id": "67e5c6d5",
   "metadata": {},
   "outputs": [
    {
     "data": {
      "text/plain": [
       "0.002929666894690846"
      ]
     },
     "execution_count": 25,
     "metadata": {},
     "output_type": "execute_result"
    }
   ],
   "source": [
    "delta"
   ]
  },
  {
   "cell_type": "code",
   "execution_count": 26,
   "id": "54171758",
   "metadata": {},
   "outputs": [],
   "source": [
    "def power_iteration(A):\n",
    "    n, d = A.shape\n",
    "    x = np.ones(d) / np.sqrt(d)\n",
    "    delta = 0.01\n",
    "    while True:\n",
    "        Ax = np.matmul(A,x)\n",
    "        Bx = np.matmul(A.transpose(),Ax)\n",
    "        x_new = Bx / LA.norm(Bx)\n",
    "        delta = LA.norm(x_new - x)\n",
    "        if delta < 0.001:\n",
    "            break\n",
    "        x = x_new\n",
    "    return x"
   ]
  },
  {
   "cell_type": "code",
   "execution_count": 27,
   "id": "da8ec824",
   "metadata": {},
   "outputs": [
    {
     "data": {
      "text/plain": [
       "array([9.76562034e-04, 9.99999523e-01])"
      ]
     },
     "execution_count": 27,
     "metadata": {},
     "output_type": "execute_result"
    }
   ],
   "source": [
    "power_iteration(A)"
   ]
  },
  {
   "cell_type": "code",
   "execution_count": 28,
   "id": "f9bf265e",
   "metadata": {},
   "outputs": [
    {
     "data": {
      "text/plain": [
       "array([0.001, 1.   ])"
      ]
     },
     "execution_count": 28,
     "metadata": {},
     "output_type": "execute_result"
    }
   ],
   "source": [
    "v1 = power_iteration(A)\n",
    "np.round(v1,4)"
   ]
  },
  {
   "cell_type": "code",
   "execution_count": 29,
   "id": "9fadff30",
   "metadata": {},
   "outputs": [
    {
     "data": {
      "text/plain": [
       "3.999998569489634"
      ]
     },
     "execution_count": 29,
     "metadata": {},
     "output_type": "execute_result"
    }
   ],
   "source": [
    "s1= LA.norm(np.matmul(A,v1))\n",
    "s1"
   ]
  },
  {
   "cell_type": "code",
   "execution_count": 30,
   "id": "4f3d1748",
   "metadata": {},
   "outputs": [
    {
     "data": {
      "text/plain": [
       "array([ 0.50024408,  0.4997558 , -0.4997558 , -0.50024408])"
      ]
     },
     "execution_count": 30,
     "metadata": {},
     "output_type": "execute_result"
    }
   ],
   "source": [
    "u1 = np.matmul(A,v1)/s1\n",
    "u1"
   ]
  },
  {
   "cell_type": "code",
   "execution_count": 31,
   "id": "9d94781d",
   "metadata": {},
   "outputs": [],
   "source": [
    "A_new = A-s1*np.outer(u1,v1)"
   ]
  },
  {
   "cell_type": "code",
   "execution_count": 32,
   "id": "65a632c7",
   "metadata": {},
   "outputs": [
    {
     "data": {
      "text/plain": [
       "array([[ 9.98045923e-01, -9.74654222e-04],\n",
       "       [-1.00195217e+00,  9.78468915e-04],\n",
       "       [ 1.00195217e+00, -9.78468915e-04],\n",
       "       [-9.98045923e-01,  9.74654222e-04]])"
      ]
     },
     "execution_count": 32,
     "metadata": {},
     "output_type": "execute_result"
    }
   ],
   "source": [
    "A_new"
   ]
  },
  {
   "cell_type": "code",
   "execution_count": 33,
   "id": "675baaa7",
   "metadata": {},
   "outputs": [
    {
     "data": {
      "text/plain": [
       "array([ 1.   , -0.001])"
      ]
     },
     "execution_count": 33,
     "metadata": {},
     "output_type": "execute_result"
    }
   ],
   "source": [
    "v2 = power_iteration(A_new)\n",
    "np.round(v2,4)"
   ]
  },
  {
   "cell_type": "code",
   "execution_count": 34,
   "id": "e4ebc931",
   "metadata": {},
   "outputs": [
    {
     "data": {
      "text/plain": [
       "2.0000028610181744"
      ]
     },
     "execution_count": 34,
     "metadata": {},
     "output_type": "execute_result"
    }
   ],
   "source": [
    "s2= LA.norm(np.matmul(A,v2))\n",
    "s2"
   ]
  },
  {
   "cell_type": "code",
   "execution_count": 35,
   "id": "8f56ead5",
   "metadata": {},
   "outputs": [
    {
     "data": {
      "text/plain": [
       "array([ 0.49902249, -0.50097561,  0.50097561, -0.49902249])"
      ]
     },
     "execution_count": 35,
     "metadata": {},
     "output_type": "execute_result"
    }
   ],
   "source": [
    "u2 = np.matmul(A,v2)/s2\n",
    "u2"
   ]
  },
  {
   "cell_type": "code",
   "execution_count": null,
   "id": "1e964d8e",
   "metadata": {},
   "outputs": [],
   "source": []
  },
  {
   "cell_type": "markdown",
   "id": "8ec135fc",
   "metadata": {},
   "source": [
    "## Compare with SVD "
   ]
  },
  {
   "cell_type": "code",
   "execution_count": 103,
   "id": "a40429c3",
   "metadata": {},
   "outputs": [],
   "source": [
    "U,M,V = LA.svd(A, full_matrices=False)"
   ]
  },
  {
   "cell_type": "code",
   "execution_count": 104,
   "id": "e841bc79",
   "metadata": {},
   "outputs": [
    {
     "data": {
      "text/plain": [
       "array([[-0.5, -0.5],\n",
       "       [-0.5,  0.5],\n",
       "       [ 0.5, -0.5],\n",
       "       [ 0.5,  0.5]])"
      ]
     },
     "execution_count": 104,
     "metadata": {},
     "output_type": "execute_result"
    }
   ],
   "source": [
    "U"
   ]
  },
  {
   "cell_type": "code",
   "execution_count": 105,
   "id": "6ecce974",
   "metadata": {},
   "outputs": [
    {
     "data": {
      "text/plain": [
       "array([4., 2.])"
      ]
     },
     "execution_count": 105,
     "metadata": {},
     "output_type": "execute_result"
    }
   ],
   "source": [
    "M"
   ]
  },
  {
   "cell_type": "code",
   "execution_count": 106,
   "id": "a402bf33",
   "metadata": {},
   "outputs": [
    {
     "data": {
      "text/plain": [
       "array([[-0., -1.],\n",
       "       [-1., -0.]])"
      ]
     },
     "execution_count": 106,
     "metadata": {},
     "output_type": "execute_result"
    }
   ],
   "source": [
    "V"
   ]
  }
 ],
 "metadata": {
  "kernelspec": {
   "display_name": "Python 3 (ipykernel)",
   "language": "python",
   "name": "python3"
  },
  "language_info": {
   "codemirror_mode": {
    "name": "ipython",
    "version": 3
   },
   "file_extension": ".py",
   "mimetype": "text/x-python",
   "name": "python",
   "nbconvert_exporter": "python",
   "pygments_lexer": "ipython3",
   "version": "3.10.2"
  }
 },
 "nbformat": 4,
 "nbformat_minor": 5
}
